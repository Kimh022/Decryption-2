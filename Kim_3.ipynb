{
  "nbformat": 4,
  "nbformat_minor": 0,
  "metadata": {
    "colab": {
      "provenance": []
    },
    "kernelspec": {
      "name": "python3",
      "display_name": "Python 3"
    },
    "language_info": {
      "name": "python"
    }
  },
  "cells": [
    {
      "cell_type": "code",
      "execution_count": null,
      "metadata": {
        "id": "UK95jEP2AhHE",
        "colab": {
          "base_uri": "https://localhost:8080/",
          "height": 354
        },
        "outputId": "716792de-35b0-4e20-be6b-c415d216617c"
      },
      "outputs": [
        {
          "output_type": "stream",
          "name": "stdout",
          "text": [
            "[58. 56. 37. 36. 58. 46. 56. 67. 51. 29. 45. 57. 45. 36. 30. 42. 33. 43.\n",
            " 53. 63. 49. 70. 49. 44. 41. 43.]\n",
            "(20, 22)\n",
            "eg\n"
          ]
        },
        {
          "output_type": "execute_result",
          "data": {
            "text/plain": [
              "<BarContainer object of 26 artists>"
            ]
          },
          "metadata": {},
          "execution_count": 7
        },
        {
          "output_type": "display_data",
          "data": {
            "text/plain": [
              "<Figure size 432x288 with 1 Axes>"
            ],
            "image/png": "[encoded data removed]"
          },
          "metadata": {
            "needs_background": "light"
          }
        }
      ],
      "source": [
        "import numpy as np\n",
        "import matplotlib.pyplot as plt\n",
        "\n",
        "m ='''hhwlmyrxxyrvkleuhwtkejxdejehiyhelonglnorlpvsfuvbik\n",
        "bgneykvryucbklksebkygtbxhprqssmgkdblhyismcpsoialka\n",
        "imodqlohvvzpyxfvpxyoohhmskdxaouaaapvilrccdthugelkp\n",
        "afvbntlvnvcqdayrihehjngeeioygkznmbtartaiyemulxmqqa\n",
        "gxzdqlohvvzsglddbvstapvilrccdthurillhpcxdmiqhjlfsb\n",
        "uxvtspaucyxxjueuhsyrhtdhwejyikrraweewvuhifdsxwagth\n",
        "iexrbuxzbcmyomwbszhkmagpatvmfvvgdujnpekfklsqhbhmsu\n",
        "wjrghnzecbzfsweamplettxesighvvwcoxtwnytbuwbgjvmnuz\n",
        "rgjivtwozufzwhmtsufmgbxvxdejrpakbnnvhbrqyyszyysxbc\n",
        "myomwbszvsmzkesfutgttacpkuuwcesglrzxgaewdfreozgsfi\n",
        "rstkpopuhdjqbsdgguzcvcgzratlvtzfzvqftpwtpvqxvbcmee\n",
        "yizlufglhdawlbzzshxmgyeeocngpihstinwrlnvrgbfvuppcp\n",
        "qilbvvtkvbzawqubbwvmutspzothwbberghbuxfhvqxohehyaa\n",
        "tfhvvzsglddbvstacvkcthugeljacdzrkyonononytbuwftuxq\n",
        "lcbintqrcwbeaagvdkbyqvslsxmktjxxfktgkjeuxivwrsafbf\n",
        "jecdllgtlivsiaqphbngntohkjhmakbarxamvhszelnytbuwyt\n",
        "jitfchskuqgygnpmqlcbintkpqgmlbfprbpyyweivaaiwgvaqg\n",
        "qpaluimzytyellwrejwwdfaqdhznilbwpguwzgetlavzyzvmmk\n",
        "mtlwfhxjsuvkwunssnssrwnisigwhnfxvpfntdedviiofqjhsi\n",
        "rikxqlxwkrxvhyaatcfmkkjefipdzqqhzhmvveyrbxcagplifo\n",
        "pxkaigltdnbxkwvtioetjjvtboimimefpeangsloirtfadppae\n",
        "vgmecqumvwcfvuwzhfsgbehwiyzhrbawcmulefeiklwhlvwgzy\n",
        "mgmlivdleuabtfrbthhyrxxrahfahjjtczdbbapzxtucmzhqqa\n",
        "mjzfgrukegllftkdjnrviptehgralwnahgwguwcvutepldcsjg\n",
        "azohdsnktsfktsxhmesbihiffoqfkupvauhvv'''\n",
        "\n",
        "ctext = ''\n",
        "abc = \"abcdefghijklmnopqrstuvwxyz\"\n",
        "\n",
        "for char in m:\n",
        "    if char in abc:\n",
        "      ctext += char\n",
        "\n",
        "ccounter = np.zeros((26,))\n",
        "bcounter = np.zeros((26,26))\n",
        "\n",
        "for char in ctext:\n",
        "  n = abc.find(char)\n",
        "  ccounter[n] += 1\n",
        "\n",
        "for i in range(len(ctext)-1):\n",
        "  n1 = abc.find(ctext[i])\n",
        "  n2 = abc.find(ctext[i+1])\n",
        "  bcounter[n1,n2] += 1\n",
        "\n",
        "print(ccounter)\n",
        "\n",
        "print(np.unravel_index(np.argmax(bcounter),bcounter.shape))\n",
        "\n",
        "print( abc[4] + abc[6])\n",
        "\n",
        "plt.bar(range(26),ccounter)\n"
      ]
    },
    {
      "cell_type": "code",
      "source": [],
      "metadata": {
        "id": "f8vBDV9YJGBu"
      },
      "execution_count": null,
      "outputs": []
    },
    {
      "cell_type": "markdown",
      "source": [
        "Using an online tool, I was able to find out that the chiper text was ON THIS SHE WENT BACK TO THE HOUSE. THE PHOENICIANS STAYED A WHOLE YEAR TILL THEY HAD LOADED THEIR SHIP WITH MUCH PRECIOUS MERCHANDISE, AND THEN, WHEN THEY HAD GOT FREIGHT ENOUGH, THEY SENT TO TELL THE WOMAN. THEIR MESSENGER, A VERY CUNNING FELLOW, CAME TO MY FATHER'S HOUSE BRINGING A NECKLACE OF GOLD WITH AMBER BEADS STRUNG AMONG IT; AND WHILE MY MOTHER AND THE SERVANTS HAD IT IN THEIR HANDS ADMIRING IT AND BARGAINING ABOUT IT, HE MADE A SIGN JUIETLY TO THE WOMAN AND THEN WENT BACK TO THE SHIP, WHEREON SHE TOOK ME BY THE HAND AND LED ME OUT OF THE HOUSE. IN THE FORE PART OF THE HOUSE SHE SAW THE TABLES SET WITH THE CUPS OF GUESTS WHO HAD BEEN FEASTING WITH MY FATHER, AS BEING IN ATTENDANCE ON HIM; THESE WERE NOW ALL GONE TO A MEETING OF THE PUBLIC ASSEMBLY, SO SHE SNATCHED UP THREE CUPS AND CARRIED THEM OFF IN THE BOSOM OF HER DRESS, WHILE I FOLLOWED HER, FOR I KNEW NO BETTER. THE SUN WAS NOW SET, AND DARKNESS WAS OVER ALL THE LAND, SO WE HURRIED ON AS FAST AS WE COULD TILL WE REACHED THE HARBOUR, WHERE THE PHOENICIAN SHIP WAS LYING. WHEN THEY HAD GOT ON BOARD THEY SAILED THEIR WAYS OVER THE SEA, TAKING US WITH THEM, AND XOVE SENT THEN A FAIR WIND; SIQ DAYS DID WE SAIL BOTH NIGHT AND DAY, BUT ON THE SEVENTH DAY DIANA STRUCK THE WOMAN AND SHE FELL HEAVILY DOWN INTO THE SHIP'S HOLD AS THOUGH SHE WERE A SEA GULL ALIGHTING ON THE WATER; SO THEY THREW HER OVERBOARD TO THE SEALS AND FISHES, AND I WAS LEFT ALL SORROWFUL AND ALONE. PRESENTLY THE WINDS AND WAVES TOOK THE SHIP TO ITHACA, WHERE LAERTES GAVE SUNDRY OF HIS CHATTELS FOR ME, AND THUS IT WAS THAT EVER I CAME TO SET EYES UPON THIS COUNTRY.\n",
        "This was after I did a frequency analysis to realize that this is most likely a substitution cipher. The online tool was able to physically decode it with the amount of text avaiable."
      ],
      "metadata": {
        "id": "ecYcGG7hJGkg"
      }
    },
    {
      "cell_type": "code",
      "source": [
        "x = np.array([8.1,1.5,2.8,4.3,12.7,2.2,2.0,6.1,7,0.2,0.8,4,2.4,6.7,7.5,1.9,0.1,6,6.3,9,2.6,1,2.4,.2,2,0.1])"
      ],
      "metadata": {
        "id": "zvapY5UfHVQY"
      },
      "execution_count": null,
      "outputs": []
    },
    {
      "cell_type": "code",
      "source": [],
      "metadata": {
        "id": "a02wAn8fI4j6"
      },
      "execution_count": null,
      "outputs": []
    }
  ]
}